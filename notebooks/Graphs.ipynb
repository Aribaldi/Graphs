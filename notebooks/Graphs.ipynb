{
 "cells": [
  {
   "cell_type": "code",
   "execution_count": 1,
   "metadata": {},
   "outputs": [],
   "source": [
    "import networkx as nx\n",
    "import osmnx as ox\n",
    "from matplotlib import pyplot as plt\n",
    "import matplotlib.cm as cm\n",
    "import pandas as pd\n",
    "import xml.etree.ElementTree as ET\n",
    "import numpy as np\n",
    "\n",
    "path = 'data/'"
   ]
  },
  {
   "cell_type": "code",
   "execution_count": null,
   "metadata": {},
   "outputs": [],
   "source": [
    "G2 = ox.graph_from_file(path+'Rostov3.osm', retain_all=True, simplify=False)\n",
    "fig, ax = ox.plot_graph(G2, fig_height=18)"
   ]
  },
  {
   "cell_type": "code",
   "execution_count": null,
   "metadata": {},
   "outputs": [],
   "source": [
    "df_matrix = nx.to_pandas_adjacency(G2, dtype=np.uint8)"
   ]
  },
  {
   "cell_type": "code",
   "execution_count": null,
   "metadata": {},
   "outputs": [],
   "source": [
    "df_matrix.to_csv(path+'Adj_matrix_bbike_map.csv', index=False)"
   ]
  },
  {
   "cell_type": "code",
   "execution_count": null,
   "metadata": {},
   "outputs": [],
   "source": [
    "adj_list = list(nx.generate_adjlist(G2))"
   ]
  },
  {
   "cell_type": "code",
   "execution_count": null,
   "metadata": {},
   "outputs": [],
   "source": [
    "df_list = pd.DataFrame(adj_list, columns = ['row'])\n",
    "df_list = pd.DataFrame(df_list.row.str.split(' ').tolist())\n",
    "df_list = df_list.rename(columns={0: 'Source'})"
   ]
  },
  {
   "cell_type": "code",
   "execution_count": null,
   "metadata": {},
   "outputs": [],
   "source": [
    "df_list.to_csv(path+'Adj_list_bbike_map.csv', index=False)"
   ]
  },
  {
   "cell_type": "code",
   "execution_count": 17,
   "metadata": {},
   "outputs": [],
   "source": [
    "root = ET.parse(path+'Rostov3.osm').getroot()\n",
    "nodes = root.findall('./node')\n",
    "nodes = {node.attrib['id'] : {\n",
    "    'name' : str(*[c.attrib['v'] for c in node if c.attrib['k']=='name']) \n",
    "} for node in nodes}\n",
    "df_nodes = pd.DataFrame(nodes).T"
   ]
  },
  {
   "cell_type": "code",
   "execution_count": 3,
   "metadata": {},
   "outputs": [],
   "source": [
    "target_map = {\n",
    "    r'.*(?i)клиника.*' : 'больница',\n",
    "    r'.*(?i)больница.*' : 'больница',\n",
    "    r'.*(?i)лицей.*' : 'школа',\n",
    "    r'.*(?i)школа.*' : 'школа',\n",
    "    r'.*(?i)гимназия.*' : 'школа',\n",
    "    r'.*(?i)магазин.*' : 'магазин',\n",
    "    r'.*(?i)универсам.*' : 'магазин',\n",
    "}\n",
    "\n",
    "df_nodes = df_nodes.replace({'name' : target_map}, regex=True)\n",
    "df_nodes.loc[~df_nodes['name'].isin(['больница', 'школа', 'магазин']), 'name'] = ''"
   ]
  },
  {
   "cell_type": "code",
   "execution_count": 4,
   "metadata": {},
   "outputs": [],
   "source": [
    "df_nodes.to_csv(path+'Nodes_bbike_map.csv')"
   ]
  }
 ],
 "metadata": {
  "kernelspec": {
   "display_name": "Python 3",
   "language": "python",
   "name": "python3"
  },
  "language_info": {
   "codemirror_mode": {
    "name": "ipython",
    "version": 3
   },
   "file_extension": ".py",
   "mimetype": "text/x-python",
   "name": "python",
   "nbconvert_exporter": "python",
   "pygments_lexer": "ipython3",
   "version": "3.8.2"
  }
 },
 "nbformat": 4,
 "nbformat_minor": 4
}
