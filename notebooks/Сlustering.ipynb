{
 "cells": [
  {
   "cell_type": "code",
   "execution_count": null,
   "metadata": {},
   "outputs": [],
   "source": [
    "import numpy as np\n",
    "import pandas as pd\n",
    "import pickle\n",
    "\n",
    "from tqdm import tqdm\n",
    "from heapq import heappush, heappop\n",
    "from collections import defaultdict\n",
    "\n",
    "data_path = '../output/'"
   ]
  },
  {
   "cell_type": "code",
   "execution_count": null,
   "metadata": {},
   "outputs": [],
   "source": [
    "adj_list = pd.read_csv(data_path+'Adj_list_bbike_map.csv')\n",
    "sample_nodes = pd.read_csv(data_path+'Nodes_bbike_map.csv')\n",
    "sample_obj = pd.read_csv(data_path+'Objects_bbike_map.csv')\n",
    "nodes = pd.read_csv(data_path+'All.csv')"
   ]
  },
  {
   "cell_type": "code",
   "execution_count": null,
   "metadata": {},
   "outputs": [],
   "source": [
    "def add_adj(df, adj_list):\n",
    "    graph = df.merge(adj_list, left_on='osmid', right_on='Source')\n",
    "    adj = graph.iloc[:,6:].to_numpy()\n",
    "    adj = [node[~pd.isnull(node)] for node in adj]\n",
    "    graph['adj'] = adj\n",
    "    graph = graph[['osmid','x','y','name','adj']].set_index('osmid')\n",
    "    \n",
    "    return graph "
   ]
  },
  {
   "cell_type": "code",
   "execution_count": null,
   "metadata": {},
   "outputs": [],
   "source": [
    "sample_nodes = add_adj(sample_nodes, adj_list)\n",
    "sample_obj = add_adj(sample_obj, adj_list)\n",
    "graph = add_adj(nodes, adj_list)"
   ]
  },
  {
   "cell_type": "code",
   "execution_count": null,
   "metadata": {},
   "outputs": [],
   "source": [
    "def gaversin_distance(x1, y1, x2, y2):\n",
    "    R = 6371\n",
    "    x1 = x1 * np.pi/180\n",
    "    x2 = x2 * np.pi/180\n",
    "    y1 = y1 * np.pi/180\n",
    "    y2 = y2 * np.pi/180\n",
    "    sin1 = np.sin((y2-y1)/2)\n",
    "    sin2 = np.sin((x2-x1)/2)\n",
    "    dist = 2 * R * np.arcsin(np.sqrt(sin1**2 + (sin2**2)*np.cos(y1)*np.cos(y2)))\n",
    "    return dist"
   ]
  },
  {
   "cell_type": "code",
   "execution_count": null,
   "metadata": {},
   "outputs": [],
   "source": [
    "def df_to_edges(graph: pd.DataFrame):\n",
    "    graph_dict = graph.T.to_dict()\n",
    "    edges = defaultdict(list)\n",
    "    \n",
    "    for src_id, row_dict in graph_dict.items():\n",
    "        src_x = row_dict['x']\n",
    "        src_y = row_dict['y']\n",
    "        \n",
    "        for dst_id in row_dict['adj']:\n",
    "            dst_x = graph_dict[dst_id]['x']\n",
    "            dst_y = graph_dict[dst_id]['y']\n",
    "            cost = gaversin_distance(src_x, src_y, dst_x, dst_y)\n",
    "            \n",
    "            edges[src_id].append((cost, dst_id))\n",
    "            \n",
    "    return edges"
   ]
  },
  {
   "cell_type": "code",
   "execution_count": null,
   "metadata": {},
   "outputs": [],
   "source": [
    "graph_edges = df_to_edges(graph)"
   ]
  },
  {
   "cell_type": "code",
   "execution_count": null,
   "metadata": {},
   "outputs": [],
   "source": [
    "def dijkstra(graph : pd.DataFrame, edges : dict, src : int, dst : set):\n",
    "    mins = {vertex : {'cost' : np.inf, 'path' : ()} for vertex in graph.index}\n",
    "    mins[src] = {'cost' : 0, 'path' : (src,src)}\n",
    "    seen = set()\n",
    "    dst_control = dst.copy()\n",
    "    \n",
    "    queue = [(0, src, ())]\n",
    "    while queue and dst_control:\n",
    "        (cost1, vertex1, path) = heappop(queue)\n",
    "        \n",
    "        if vertex1 not in seen:\n",
    "            seen.add(vertex1)\n",
    "            dst_control.discard(vertex1)\n",
    "            path = path+tuple([vertex1])\n",
    "\n",
    "            for cost2, vertex2 in edges.get(vertex1, ()):\n",
    "                if vertex2 in seen: \n",
    "                    continue\n",
    "                    \n",
    "                prev = mins.get(vertex2, None)['cost']\n",
    "                curr = cost1 + cost2\n",
    "                \n",
    "                if prev is None or curr < prev:\n",
    "                    mins[vertex2] = {\n",
    "                        'cost' : curr,\n",
    "                        'path' : path+tuple([vertex2])\n",
    "                    }\n",
    "                    heappush(queue, (curr, vertex2, path))\n",
    "    \n",
    "    mins = {vertex : cost_path for vertex, cost_path in mins.items() if vertex in dst}\n",
    "    return mins "
   ]
  },
  {
   "cell_type": "code",
   "execution_count": null,
   "metadata": {},
   "outputs": [],
   "source": [
    "import osmnx as ox \n",
    "\n",
    "\n",
    "def plot_trees(G, trees):\n",
    "    \n",
    "    G_edges = list(G.edges())\n",
    "    G_nodes = list(G.nodes())\n",
    "    num_edges = len(G_edges)\n",
    "    num_nodes = len(G_nodes)\n",
    "    \n",
    "    edge_color = ['gray'] * num_edges\n",
    "    edge_linewidth = [1] * num_edges\n",
    "    node_color = ['blue'] * num_nodes\n",
    "    node_size = [0] * num_nodes\n",
    "    ec = ['purple', 'blue', 'green', 'brown', 'violet', 'orange']\n",
    "    \n",
    "    mins_sum = 0\n",
    "    tree_len = 0\n",
    "    k = 0\n",
    "    for tree in trees:\n",
    "        mins = tree['mins']\n",
    "        root = tree['root']\n",
    "        costs = np.array([value['cost'] for value in mins.values()])\n",
    "        costs = costs[costs != np.inf]\n",
    "        mins_sum += sum(costs)\n",
    "\n",
    "        tree = set()\n",
    "        for source, value in mins.items():\n",
    "            path = value['path']\n",
    "            prev = source\n",
    "            for node in path:\n",
    "                tree.add((prev, node))\n",
    "                prev = node\n",
    "\n",
    "        tree_len += sum([gaversin_distance(nodes[nodes.osmid == osmid1]['x'].iloc[0], \n",
    "                                       nodes[nodes.osmid == osmid1]['y'].iloc[0], \n",
    "                                       nodes[nodes.osmid == osmid2]['x'].iloc[0], \n",
    "                                       nodes[nodes.osmid == osmid2]['y'].iloc[0]) for osmid1, osmid2 in tree])\n",
    "\n",
    "        dst_nodes_index = list(mins.keys())\n",
    "\n",
    "        edge_color = [ec[k] if G_edges[i] in tree else edge_color[i] for i in range(num_edges)]\n",
    "        edge_linewidth = [5 if k == 0 and G_edges[i] in tree\n",
    "                          else 3 if G_edges[i] in tree and edge_linewidth[i] == 1\n",
    "                          else edge_linewidth[i] for i in range(num_edges)]\n",
    "        if k == 0:\n",
    "            node_color = ['red' if G_nodes[i] == root else node_color[i] for i in range(num_nodes)]\n",
    "        node_size = [300 if G_nodes[i] == root else 50 if G_nodes[i] in dst_nodes_index and node_size[i] == 0\n",
    "              else node_size[i] for i in range(num_nodes)]\n",
    "        \n",
    "        k += 1\n",
    "    \n",
    "    fig, ax = ox.plot_graph(G, edge_color=edge_color, \n",
    "                            edge_linewidth=edge_linewidth, \n",
    "                            node_color=node_color, \n",
    "                            node_size=node_size, \n",
    "                            fig_height=18)\n",
    "\n",
    "    print('Tree len: ', tree_len)\n",
    "    print('Mins sum: ', mins_sum)"
   ]
  },
  {
   "cell_type": "code",
   "execution_count": null,
   "metadata": {},
   "outputs": [],
   "source": [
    "mins = dijkstra(graph, graph_edges, sample_obj.index[0], set(sample_nodes.index))\n",
    "\n",
    "with open(data_path+'Rostov3_simp.pickle', 'rb') as f:\n",
    "    G2_simp = pickle.load(f)\n",
    "    \n",
    "plot_trees(G2_simp, [{'mins' : mins, 'root' : sample_obj.index[0]}])"
   ]
  },
  {
   "cell_type": "code",
   "execution_count": null,
   "metadata": {},
   "outputs": [],
   "source": [
    "def plot_dendrogram(model, **kwargs):\n",
    "    counts = np.zeros(model.children_.shape[0])\n",
    "    n_samples = len(model.labels_)\n",
    "    for i, merge in enumerate(model.children_):\n",
    "        current_count = 0\n",
    "        for child_idx in merge:\n",
    "            if child_idx < n_samples:\n",
    "                current_count += 1  \n",
    "            else:\n",
    "                current_count += counts[child_idx - n_samples]\n",
    "        counts[i] = current_count\n",
    "\n",
    "    linkage_matrix = np.column_stack([model.children_, model.distances_,\n",
    "                                      counts]).astype(float)\n",
    "\n",
    "    dendrogram(linkage_matrix, **kwargs)"
   ]
  },
  {
   "cell_type": "code",
   "execution_count": null,
   "metadata": {},
   "outputs": [],
   "source": [
    "from sklearn.cluster import AgglomerativeClustering\n",
    "from scipy.cluster.hierarchy import dendrogram\n",
    "\n",
    "X = sample_nodes[['x','y']].to_numpy()\n",
    "model = AgglomerativeClustering(distance_threshold=0, linkage='complete', n_clusters=None)\n",
    "model = model.fit(X)\n",
    "plot_dendrogram(model, truncate_mode='level', p=3)"
   ]
  },
  {
   "cell_type": "code",
   "execution_count": null,
   "metadata": {},
   "outputs": [],
   "source": [
    "def get_clustroid(cluster):\n",
    "    mean = np.mean(cluster, axis=0)\n",
    "    clustroid = np.argmin([gaversin_distance(*mean, x, y) for x, y in cluster])\n",
    "    \n",
    "    return clustroid\n",
    "\n",
    "def plot_clustering_trees(G, graph : pd.DataFrame, sample_nodes : pd.DataFrame, sample_obj : pd.DataFrame, k):\n",
    "    \n",
    "    X = sample_nodes[['x','y']].to_numpy()\n",
    "    sample_nodes_index = sample_nodes.index.to_numpy()\n",
    "    clustroids_set = set()\n",
    "\n",
    "    model = AgglomerativeClustering(distance_threshold=None, linkage='complete', n_clusters=k)\n",
    "    model.fit(X)\n",
    "        \n",
    "    print('k: ', k)\n",
    "    \n",
    "    trees = []\n",
    "    \n",
    "    for cluster in range(k):\n",
    "        cluster_X = X[model.labels_ == cluster]\n",
    "        cluster_nodes_index = sample_nodes_index[model.labels_ == cluster]\n",
    "        \n",
    "        clustroid = cluster_nodes_index[get_clustroid(cluster_X)]\n",
    "        cluster_nodes_index = set(cluster_nodes_index)\n",
    "        cluster_nodes_index.discard(clustroid)\n",
    "        clustroids_set.add(clustroid)\n",
    "        \n",
    "        mins_cluster = dijkstra(graph, graph_edges, clustroid, cluster_nodes_index)\n",
    "        trees.append({'mins' : mins_cluster, 'root' : clustroid})\n",
    "    \n",
    "    root = sample_obj.index[0]\n",
    "    mins_clustroids = dijkstra(graph, graph_edges, root, clustroids_set)\n",
    "    trees.insert(0, {'mins' : mins_clustroids, 'root' : root})\n",
    "    \n",
    "    plot_trees(G, trees)"
   ]
  },
  {
   "cell_type": "code",
   "execution_count": null,
   "metadata": {
    "scrolled": false
   },
   "outputs": [],
   "source": [
    "plot_clustering_trees(G2_simp, graph, sample_nodes, sample_obj, k=5)"
   ]
  },
  {
   "cell_type": "code",
   "execution_count": null,
   "metadata": {},
   "outputs": [],
   "source": [
    "plot_clustering_trees(G2_simp, graph, sample_nodes, sample_obj, k=3)"
   ]
  },
  {
   "cell_type": "code",
   "execution_count": null,
   "metadata": {},
   "outputs": [],
   "source": [
    "plot_clustering_trees(G2_simp, graph, sample_nodes, sample_obj, k=2)"
   ]
  },
  {
   "cell_type": "code",
   "execution_count": null,
   "metadata": {},
   "outputs": [],
   "source": []
  }
 ],
 "metadata": {
  "kernelspec": {
   "display_name": "Python 3",
   "language": "python",
   "name": "python3"
  },
  "language_info": {
   "codemirror_mode": {
    "name": "ipython",
    "version": 3
   },
   "file_extension": ".py",
   "mimetype": "text/x-python",
   "name": "python",
   "nbconvert_exporter": "python",
   "pygments_lexer": "ipython3",
   "version": "3.8.2"
  }
 },
 "nbformat": 4,
 "nbformat_minor": 2
}
